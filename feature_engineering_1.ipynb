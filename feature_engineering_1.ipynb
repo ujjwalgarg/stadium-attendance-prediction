{
 "cells": [
  {
   "cell_type": "code",
   "execution_count": 1,
   "id": "ca106764",
   "metadata": {},
   "outputs": [],
   "source": [
    "UNKNOWN_CATEGORICAL_VALUE = 'N/A'\n",
    "OTHERS_CATEGORICAL_VALUE = 'OTHERS'"
   ]
  },
  {
   "cell_type": "code",
   "execution_count": 2,
   "id": "d996b4c5",
   "metadata": {},
   "outputs": [],
   "source": [
    "from datetime import datetime\n",
    "\n",
    "import pandas as pd"
   ]
  },
  {
   "cell_type": "code",
   "execution_count": 3,
   "id": "ba515eaa",
   "metadata": {},
   "outputs": [],
   "source": [
    "pd.set_option('display.max_rows', 500)\n",
    "pd.set_option('display.max_columns', 500)\n",
    "pd.set_option('display.width', 1000)"
   ]
  },
  {
   "cell_type": "code",
   "execution_count": 4,
   "id": "39699fa3",
   "metadata": {
    "scrolled": true
   },
   "outputs": [],
   "source": [
    "def parser(s):\n",
    "    if pd.isna(s):\n",
    "        return\n",
    "    if len(s) <= 10:\n",
    "        return datetime.strptime(s, '%Y-%m-%d')\n",
    "    return datetime.strptime(s, '%Y-%m-%d %H:%M:%S')\n"
   ]
  },
  {
   "cell_type": "code",
   "execution_count": 5,
   "id": "f812cfce",
   "metadata": {},
   "outputs": [],
   "source": [
    "columns_to_use = ['isAttended', 'UniqueID', 'acct_type_desc', 'event_name', 'event_date', 'plan_event_name', \n",
    "                  'comp_name', 'PC1', 'Price', 'paid', 'add_datetime', 'class_name', 'status', 'isHost', \n",
    "                  'SeatType', 'TicketClass', 'Term', 'TicketType', 'Season', 'Tenure', 'Resold', 'ResalePrice', \n",
    "                  'ResaleDate', 'isSTM', 'SeatUniqueID']\n"
   ]
  },
  {
   "cell_type": "code",
   "execution_count": 6,
   "id": "376d2317",
   "metadata": {
    "scrolled": true
   },
   "outputs": [],
   "source": [
    "df = pd.read_csv('Cross Road Analytics Competition Dataset.csv',\n",
    "                 low_memory=False,\n",
    "                 usecols=columns_to_use,\n",
    "                 parse_dates=['event_date', 'add_datetime', 'ResaleDate'],\n",
    "                 date_parser=parser)"
   ]
  },
  {
   "cell_type": "code",
   "execution_count": 7,
   "id": "d80cc723",
   "metadata": {},
   "outputs": [
    {
     "data": {
      "text/plain": [
       "Yes    70.008066\n",
       "No     19.992214\n",
       "???     9.999720\n",
       "Name: isAttended, dtype: float64"
      ]
     },
     "execution_count": 7,
     "metadata": {},
     "output_type": "execute_result"
    }
   ],
   "source": [
    "df['isAttended'].value_counts(dropna=False, normalize=True)*100\n",
    "\n",
    "# df.groupby('event_name')['isAttended'].value_counts(dropna=False, normalize=True)*100\n",
    "# df.groupby('event_date')['isAttended'].value_counts(dropna=False, normalize=True)*100"
   ]
  },
  {
   "cell_type": "markdown",
   "id": "53169b08",
   "metadata": {},
   "source": [
    "# Feature Engineering"
   ]
  },
  {
   "cell_type": "markdown",
   "id": "e55c8778",
   "metadata": {},
   "source": [
    "## acct_type_desc"
   ]
  },
  {
   "cell_type": "code",
   "execution_count": 8,
   "id": "831c1010",
   "metadata": {},
   "outputs": [],
   "source": [
    "df['acct_type_desc'] = df['acct_type_desc'].fillna(UNKNOWN_CATEGORICAL_VALUE)"
   ]
  },
  {
   "cell_type": "code",
   "execution_count": 9,
   "id": "ca89f3eb",
   "metadata": {},
   "outputs": [],
   "source": [
    "condition = df['acct_type_desc'].isin(\n",
    "    ['Season', 'Club', 'House', 'N/A', 'Personal', 'Sponsor', 'Group', 'Employee']\n",
    ")\n",
    "\n",
    "df['acct_type_desc_processed'] = df['acct_type_desc']\n",
    "df.loc[~condition, 'acct_type_desc_processed'] = OTHERS_CATEGORICAL_VALUE"
   ]
  },
  {
   "cell_type": "markdown",
   "id": "094f5cff",
   "metadata": {},
   "source": [
    "## event_date, add_datetime, ResaleDate"
   ]
  },
  {
   "attachments": {
    "image.png": {
     "image/png": "[encoded data removed]"
    }
   },
   "cell_type": "markdown",
   "id": "48c6eadd",
   "metadata": {},
   "source": [
    "variable name\tvariable description\n",
    "event_date\tDate of Game\n",
    "add_datetime\tDate/Time of Sale\n",
    "ResaleDate\tDate the ticket was resold ![image.png](attachment:image.png)"
   ]
  },
  {
   "cell_type": "code",
   "execution_count": 10,
   "id": "2c04c7c2",
   "metadata": {},
   "outputs": [],
   "source": [
    "def get_date_diff(row, greater_date, lesser_date):\n",
    "    event_date = row[greater_date]\n",
    "    add_datetime = row[lesser_date]\n",
    "    if pd.isna(event_date) or pd.isna(add_datetime):\n",
    "        return\n",
    "    add_datetime = add_datetime.date()\n",
    "    event_date = event_date.date()\n",
    "    return (event_date - add_datetime).days\n",
    "\n",
    "\n",
    "df['event_sale_date_diff'] = df.apply(\n",
    "    lambda x: get_date_diff(x, greater_date='event_date', lesser_date='add_datetime'), axis=1)\n",
    "df['event_resale_date_diff'] = df.apply(\n",
    "    lambda x: get_date_diff(x, greater_date='event_date', lesser_date='ResaleDate'), axis=1)\n",
    "df['sale_resale_date_diff'] = df.apply(\n",
    "    lambda x: get_date_diff(x, greater_date='ResaleDate', lesser_date='add_datetime'), axis=1)\n"
   ]
  },
  {
   "cell_type": "markdown",
   "id": "c8859860",
   "metadata": {},
   "source": [
    "## plan_event_name"
   ]
  },
  {
   "cell_type": "code",
   "execution_count": 11,
   "id": "73ae4d9c",
   "metadata": {},
   "outputs": [],
   "source": [
    "df['plan_event_name'] = df['plan_event_name'].fillna(UNKNOWN_CATEGORICAL_VALUE)"
   ]
  },
  {
   "cell_type": "code",
   "execution_count": 12,
   "id": "84faa694",
   "metadata": {},
   "outputs": [],
   "source": [
    "condition = df['plan_event_name'].isin(['22FS', '21FS', 'N/A'])\n",
    "\n",
    "df['plan_event_name_processed'] = df['plan_event_name']\n",
    "df.loc[~condition, 'plan_event_name_processed'] = OTHERS_CATEGORICAL_VALUE"
   ]
  },
  {
   "cell_type": "code",
   "execution_count": 13,
   "id": "9566252f",
   "metadata": {},
   "outputs": [],
   "source": [
    "# (df['plan_event_name_processed'].value_counts(dropna=False, normalize=True)*100)"
   ]
  },
  {
   "cell_type": "markdown",
   "id": "3c21d387",
   "metadata": {},
   "source": [
    "## comp_name"
   ]
  },
  {
   "cell_type": "code",
   "execution_count": 14,
   "id": "74198a25",
   "metadata": {
    "scrolled": true
   },
   "outputs": [],
   "source": [
    "# df['comp_name'].value_counts(dropna=False)"
   ]
  },
  {
   "cell_type": "code",
   "execution_count": 15,
   "id": "1700842c",
   "metadata": {},
   "outputs": [],
   "source": [
    "df['comp_name'] = df['comp_name'].fillna(UNKNOWN_CATEGORICAL_VALUE)"
   ]
  },
  {
   "cell_type": "code",
   "execution_count": 16,
   "id": "39633be3",
   "metadata": {},
   "outputs": [],
   "source": [
    "condition = df['comp_name'].isin(['Not Comp', 'N/A'])\n",
    "\n",
    "df['comp_name_processed'] = df['comp_name']\n",
    "df.loc[~condition, 'comp_name_processed'] = OTHERS_CATEGORICAL_VALUE"
   ]
  },
  {
   "cell_type": "code",
   "execution_count": 42,
   "id": "85ed568f",
   "metadata": {},
   "outputs": [],
   "source": [
    "# df['comp_name_processed'].value_counts(dropna=False, normalize=True)*100"
   ]
  },
  {
   "cell_type": "markdown",
   "id": "3a46ed52",
   "metadata": {},
   "source": [
    "## Price"
   ]
  },
  {
   "cell_type": "code",
   "execution_count": 18,
   "id": "40b6235f",
   "metadata": {},
   "outputs": [],
   "source": [
    "# df['Price'].plot(kind='hist')"
   ]
  },
  {
   "cell_type": "code",
   "execution_count": 19,
   "id": "8bdff594",
   "metadata": {},
   "outputs": [],
   "source": [
    "price_bins = [0, 100, 200, 300, 400, 500, float('inf')]\n",
    "df['price_bins'] = pd.cut(df['Price'],\n",
    "                          bins=price_bins,\n",
    "                          include_lowest=True,\n",
    "                          labels=['A', 'B', 'C', 'D', 'E', 'F'])"
   ]
  },
  {
   "cell_type": "markdown",
   "id": "fd0639c6",
   "metadata": {},
   "source": [
    "## Paid"
   ]
  },
  {
   "cell_type": "code",
   "execution_count": 20,
   "id": "4d669c95",
   "metadata": {},
   "outputs": [],
   "source": [
    "df['paid'] = df['paid'].fillna(UNKNOWN_CATEGORICAL_VALUE)"
   ]
  },
  {
   "cell_type": "code",
   "execution_count": 21,
   "id": "77f85033",
   "metadata": {},
   "outputs": [
    {
     "data": {
      "text/plain": [
       "Y      107557100\n",
       "N/A     15414500\n",
       "N        5668600\n",
       "P          51400\n",
       "Name: paid, dtype: int64"
      ]
     },
     "execution_count": 21,
     "metadata": {},
     "output_type": "execute_result"
    }
   ],
   "source": [
    "df['paid'].value_counts(dropna=False, normalize=False)*100"
   ]
  },
  {
   "cell_type": "markdown",
   "id": "7c872805",
   "metadata": {},
   "source": [
    "## class_name"
   ]
  },
  {
   "cell_type": "code",
   "execution_count": 22,
   "id": "a044339d",
   "metadata": {},
   "outputs": [],
   "source": [
    "df['class_name'] = df['class_name'].fillna(UNKNOWN_CATEGORICAL_VALUE)"
   ]
  },
  {
   "cell_type": "code",
   "execution_count": 23,
   "id": "3d1fa845",
   "metadata": {},
   "outputs": [],
   "source": [
    "condition = df['class_name'].isin(\n",
    "    ['OPEN', 'JIM IRSAY', 'DIST-OPEN', 'ACCOUNT MANAGER', 'ACCMAN RELO', 'GROUP',\n",
    "     'VT SELL', 'EVENTS', 'DOQ-BRDCSTHOLD', 'XTEST']\n",
    ")\n",
    "\n",
    "df['class_name_processed'] = df['class_name']\n",
    "df.loc[~condition, 'class_name_processed'] = OTHERS_CATEGORICAL_VALUE"
   ]
  },
  {
   "cell_type": "code",
   "execution_count": 24,
   "id": "1bb18c8e",
   "metadata": {
    "scrolled": true
   },
   "outputs": [],
   "source": [
    "# (df['class_name_processed'].value_counts(dropna=False, normalize=True)*100)"
   ]
  },
  {
   "cell_type": "markdown",
   "id": "8aa1ec2d",
   "metadata": {},
   "source": [
    "## TicketClass"
   ]
  },
  {
   "cell_type": "code",
   "execution_count": 25,
   "id": "43568e0d",
   "metadata": {},
   "outputs": [],
   "source": [
    "df.loc[df['TicketClass'] == 'Obstructed View', 'TicketClass'] = 'Obstruct'"
   ]
  },
  {
   "cell_type": "code",
   "execution_count": 26,
   "id": "07729798",
   "metadata": {},
   "outputs": [
    {
     "data": {
      "text/plain": [
       "Manifest    92.525542\n",
       "Infill       3.663021\n",
       "SRO          1.561640\n",
       "ADA          1.179564\n",
       "Obstruct     1.070233\n",
       "Name: TicketClass, dtype: float64"
      ]
     },
     "execution_count": 26,
     "metadata": {},
     "output_type": "execute_result"
    }
   ],
   "source": [
    "df['TicketClass'].value_counts(dropna=False, normalize=True)*100"
   ]
  },
  {
   "cell_type": "markdown",
   "id": "de6f4e1c",
   "metadata": {},
   "source": [
    "## TicketType"
   ]
  },
  {
   "cell_type": "code",
   "execution_count": 27,
   "id": "0929684b",
   "metadata": {},
   "outputs": [],
   "source": [
    "condition = df['TicketType'].isin(\n",
    "    ['Renewal', 'New', 'Broker', 'Existing', 'SingleGame', 'Comp', 'Sponsor',\n",
    "     'Group', 'SingleGm Avail', 'SRO Avail']\n",
    ")\n",
    "\n",
    "df['TicketType_processed'] = df['TicketType']\n",
    "df.loc[~condition, 'TicketType_processed'] = OTHERS_CATEGORICAL_VALUE"
   ]
  },
  {
   "cell_type": "markdown",
   "id": "6613e7d1",
   "metadata": {},
   "source": [
    "## Resold"
   ]
  },
  {
   "cell_type": "code",
   "execution_count": 28,
   "id": "d0526ba1",
   "metadata": {},
   "outputs": [],
   "source": [
    "df['Resold'] = df['Resold'].fillna(UNKNOWN_CATEGORICAL_VALUE)"
   ]
  },
  {
   "cell_type": "code",
   "execution_count": 29,
   "id": "cf6200cb",
   "metadata": {},
   "outputs": [],
   "source": [
    "df.loc[df['Resold'] == '1', 'Resold'] = 'Yes'"
   ]
  },
  {
   "cell_type": "code",
   "execution_count": 30,
   "id": "308976ce",
   "metadata": {},
   "outputs": [
    {
     "data": {
      "text/plain": [
       "N/A    0.886513\n",
       "Yes    0.113487\n",
       "Name: Resold, dtype: float64"
      ]
     },
     "execution_count": 30,
     "metadata": {},
     "output_type": "execute_result"
    }
   ],
   "source": [
    "df['Resold'].value_counts(dropna=False, normalize=True)"
   ]
  },
  {
   "cell_type": "markdown",
   "id": "4219b572",
   "metadata": {},
   "source": [
    "## isSTM"
   ]
  },
  {
   "cell_type": "code",
   "execution_count": 31,
   "id": "9e34dee7",
   "metadata": {},
   "outputs": [],
   "source": [
    "df['isSTM'] = df['isSTM'].fillna(0.)"
   ]
  },
  {
   "cell_type": "code",
   "execution_count": 32,
   "id": "5cced9eb",
   "metadata": {},
   "outputs": [
    {
     "data": {
      "text/plain": [
       "0.0    0.699427\n",
       "1.0    0.300573\n",
       "Name: isSTM, dtype: float64"
      ]
     },
     "execution_count": 32,
     "metadata": {},
     "output_type": "execute_result"
    }
   ],
   "source": [
    "df['isSTM'].value_counts(dropna=False, normalize=True)"
   ]
  },
  {
   "cell_type": "code",
   "execution_count": 33,
   "id": "b805784f",
   "metadata": {},
   "outputs": [],
   "source": [
    "df['isSTM'] = df['isSTM'].apply(lambda x: str(x))"
   ]
  },
  {
   "cell_type": "markdown",
   "id": "4f039028",
   "metadata": {},
   "source": [
    "## isHost, Season"
   ]
  },
  {
   "cell_type": "code",
   "execution_count": 34,
   "id": "8aecabef",
   "metadata": {},
   "outputs": [],
   "source": [
    "df['isHost'] = df['isHost'].apply(lambda x: str(x))"
   ]
  },
  {
   "cell_type": "code",
   "execution_count": 35,
   "id": "a0ad285f",
   "metadata": {},
   "outputs": [],
   "source": [
    "df['Season'] = df['Season'].apply(lambda x: str(x))"
   ]
  },
  {
   "cell_type": "markdown",
   "id": "cbccfb8e",
   "metadata": {},
   "source": [
    "# Feature Selection"
   ]
  },
  {
   "cell_type": "code",
   "execution_count": 36,
   "id": "a47ce0f9",
   "metadata": {
    "scrolled": true
   },
   "outputs": [
    {
     "data": {
      "text/html": [
       "<div>\n",
       "<style scoped>\n",
       "    .dataframe tbody tr th:only-of-type {\n",
       "        vertical-align: middle;\n",
       "    }\n",
       "\n",
       "    .dataframe tbody tr th {\n",
       "        vertical-align: top;\n",
       "    }\n",
       "\n",
       "    .dataframe thead th {\n",
       "        text-align: right;\n",
       "    }\n",
       "</style>\n",
       "<table border=\"1\" class=\"dataframe\">\n",
       "  <thead>\n",
       "    <tr style=\"text-align: right;\">\n",
       "      <th></th>\n",
       "      <th>acct_type_desc</th>\n",
       "      <th>event_name</th>\n",
       "      <th>event_date</th>\n",
       "      <th>plan_event_name</th>\n",
       "      <th>comp_name</th>\n",
       "      <th>PC1</th>\n",
       "      <th>Price</th>\n",
       "      <th>paid</th>\n",
       "      <th>add_datetime</th>\n",
       "      <th>class_name</th>\n",
       "      <th>status</th>\n",
       "      <th>isHost</th>\n",
       "      <th>SeatType</th>\n",
       "      <th>TicketClass</th>\n",
       "      <th>Term</th>\n",
       "      <th>TicketType</th>\n",
       "      <th>SeatUniqueID</th>\n",
       "      <th>Season</th>\n",
       "      <th>Tenure</th>\n",
       "      <th>UniqueID</th>\n",
       "      <th>isAttended</th>\n",
       "      <th>Resold</th>\n",
       "      <th>ResalePrice</th>\n",
       "      <th>ResaleDate</th>\n",
       "      <th>isSTM</th>\n",
       "      <th>acct_type_desc_processed</th>\n",
       "      <th>event_sale_date_diff</th>\n",
       "      <th>event_resale_date_diff</th>\n",
       "      <th>sale_resale_date_diff</th>\n",
       "      <th>plan_event_name_processed</th>\n",
       "      <th>comp_name_processed</th>\n",
       "      <th>price_bins</th>\n",
       "      <th>class_name_processed</th>\n",
       "      <th>TicketType_processed</th>\n",
       "    </tr>\n",
       "  </thead>\n",
       "  <tbody>\n",
       "    <tr>\n",
       "      <th>0</th>\n",
       "      <td>Season</td>\n",
       "      <td>CLT21HOU</td>\n",
       "      <td>2021-10-17</td>\n",
       "      <td>21FS</td>\n",
       "      <td>Not Comp</td>\n",
       "      <td>F</td>\n",
       "      <td>111.0</td>\n",
       "      <td>Y</td>\n",
       "      <td>2021-03-31 16:08:52</td>\n",
       "      <td>OPEN</td>\n",
       "      <td>SOLD</td>\n",
       "      <td>0</td>\n",
       "      <td>GA</td>\n",
       "      <td>Manifest</td>\n",
       "      <td>NaN</td>\n",
       "      <td>Renewal</td>\n",
       "      <td>101-10-1</td>\n",
       "      <td>2021</td>\n",
       "      <td>25.0</td>\n",
       "      <td>CLT21HOU-101-10-1</td>\n",
       "      <td>Yes</td>\n",
       "      <td>N/A</td>\n",
       "      <td>NaN</td>\n",
       "      <td>NaT</td>\n",
       "      <td>0.0</td>\n",
       "      <td>Season</td>\n",
       "      <td>200.0</td>\n",
       "      <td>NaN</td>\n",
       "      <td>NaN</td>\n",
       "      <td>21FS</td>\n",
       "      <td>Not Comp</td>\n",
       "      <td>B</td>\n",
       "      <td>OPEN</td>\n",
       "      <td>Renewal</td>\n",
       "    </tr>\n",
       "    <tr>\n",
       "      <th>1</th>\n",
       "      <td>Season</td>\n",
       "      <td>CLT21HOU</td>\n",
       "      <td>2021-10-17</td>\n",
       "      <td>21FS</td>\n",
       "      <td>Not Comp</td>\n",
       "      <td>F</td>\n",
       "      <td>111.0</td>\n",
       "      <td>Y</td>\n",
       "      <td>2021-03-31 16:08:19</td>\n",
       "      <td>OPEN</td>\n",
       "      <td>SOLD</td>\n",
       "      <td>0</td>\n",
       "      <td>GA</td>\n",
       "      <td>Manifest</td>\n",
       "      <td>NaN</td>\n",
       "      <td>Renewal</td>\n",
       "      <td>101-10-10</td>\n",
       "      <td>2021</td>\n",
       "      <td>20.0</td>\n",
       "      <td>CLT21HOU-101-10-10</td>\n",
       "      <td>No</td>\n",
       "      <td>N/A</td>\n",
       "      <td>NaN</td>\n",
       "      <td>NaT</td>\n",
       "      <td>0.0</td>\n",
       "      <td>Season</td>\n",
       "      <td>200.0</td>\n",
       "      <td>NaN</td>\n",
       "      <td>NaN</td>\n",
       "      <td>21FS</td>\n",
       "      <td>Not Comp</td>\n",
       "      <td>B</td>\n",
       "      <td>OPEN</td>\n",
       "      <td>Renewal</td>\n",
       "    </tr>\n",
       "    <tr>\n",
       "      <th>2</th>\n",
       "      <td>Season</td>\n",
       "      <td>CLT21HOU</td>\n",
       "      <td>2021-10-17</td>\n",
       "      <td>21FS</td>\n",
       "      <td>Not Comp</td>\n",
       "      <td>F</td>\n",
       "      <td>111.0</td>\n",
       "      <td>Y</td>\n",
       "      <td>2021-03-31 16:08:19</td>\n",
       "      <td>OPEN</td>\n",
       "      <td>SOLD</td>\n",
       "      <td>0</td>\n",
       "      <td>GA</td>\n",
       "      <td>Manifest</td>\n",
       "      <td>NaN</td>\n",
       "      <td>Renewal</td>\n",
       "      <td>101-10-11</td>\n",
       "      <td>2021</td>\n",
       "      <td>20.0</td>\n",
       "      <td>CLT21HOU-101-10-11</td>\n",
       "      <td>No</td>\n",
       "      <td>N/A</td>\n",
       "      <td>NaN</td>\n",
       "      <td>NaT</td>\n",
       "      <td>0.0</td>\n",
       "      <td>Season</td>\n",
       "      <td>200.0</td>\n",
       "      <td>NaN</td>\n",
       "      <td>NaN</td>\n",
       "      <td>21FS</td>\n",
       "      <td>Not Comp</td>\n",
       "      <td>B</td>\n",
       "      <td>OPEN</td>\n",
       "      <td>Renewal</td>\n",
       "    </tr>\n",
       "    <tr>\n",
       "      <th>3</th>\n",
       "      <td>Season</td>\n",
       "      <td>CLT21HOU</td>\n",
       "      <td>2021-10-17</td>\n",
       "      <td>21FS</td>\n",
       "      <td>Not Comp</td>\n",
       "      <td>F</td>\n",
       "      <td>111.0</td>\n",
       "      <td>Y</td>\n",
       "      <td>2021-03-31 16:10:20</td>\n",
       "      <td>OPEN</td>\n",
       "      <td>SOLD</td>\n",
       "      <td>0</td>\n",
       "      <td>GA</td>\n",
       "      <td>Manifest</td>\n",
       "      <td>NaN</td>\n",
       "      <td>Renewal</td>\n",
       "      <td>101-10-12</td>\n",
       "      <td>2021</td>\n",
       "      <td>4.0</td>\n",
       "      <td>CLT21HOU-101-10-12</td>\n",
       "      <td>Yes</td>\n",
       "      <td>N/A</td>\n",
       "      <td>NaN</td>\n",
       "      <td>NaT</td>\n",
       "      <td>0.0</td>\n",
       "      <td>Season</td>\n",
       "      <td>200.0</td>\n",
       "      <td>NaN</td>\n",
       "      <td>NaN</td>\n",
       "      <td>21FS</td>\n",
       "      <td>Not Comp</td>\n",
       "      <td>B</td>\n",
       "      <td>OPEN</td>\n",
       "      <td>Renewal</td>\n",
       "    </tr>\n",
       "    <tr>\n",
       "      <th>4</th>\n",
       "      <td>Season</td>\n",
       "      <td>CLT21HOU</td>\n",
       "      <td>2021-10-17</td>\n",
       "      <td>21FS</td>\n",
       "      <td>Not Comp</td>\n",
       "      <td>F</td>\n",
       "      <td>111.0</td>\n",
       "      <td>Y</td>\n",
       "      <td>2021-03-31 16:08:21</td>\n",
       "      <td>OPEN</td>\n",
       "      <td>SOLD</td>\n",
       "      <td>0</td>\n",
       "      <td>GA</td>\n",
       "      <td>Manifest</td>\n",
       "      <td>NaN</td>\n",
       "      <td>Renewal</td>\n",
       "      <td>101-10-13</td>\n",
       "      <td>2021</td>\n",
       "      <td>32.0</td>\n",
       "      <td>CLT21HOU-101-10-13</td>\n",
       "      <td>No</td>\n",
       "      <td>N/A</td>\n",
       "      <td>NaN</td>\n",
       "      <td>NaT</td>\n",
       "      <td>0.0</td>\n",
       "      <td>Season</td>\n",
       "      <td>200.0</td>\n",
       "      <td>NaN</td>\n",
       "      <td>NaN</td>\n",
       "      <td>21FS</td>\n",
       "      <td>Not Comp</td>\n",
       "      <td>B</td>\n",
       "      <td>OPEN</td>\n",
       "      <td>Renewal</td>\n",
       "    </tr>\n",
       "  </tbody>\n",
       "</table>\n",
       "</div>"
      ],
      "text/plain": [
       "  acct_type_desc event_name event_date plan_event_name comp_name PC1  Price paid        add_datetime class_name status isHost SeatType TicketClass  Term TicketType SeatUniqueID Season  Tenure            UniqueID isAttended Resold  ResalePrice ResaleDate isSTM acct_type_desc_processed  event_sale_date_diff  event_resale_date_diff  sale_resale_date_diff plan_event_name_processed comp_name_processed price_bins class_name_processed TicketType_processed\n",
       "0         Season   CLT21HOU 2021-10-17            21FS  Not Comp   F  111.0    Y 2021-03-31 16:08:52       OPEN   SOLD      0       GA    Manifest   NaN    Renewal     101-10-1   2021    25.0   CLT21HOU-101-10-1        Yes    N/A          NaN        NaT   0.0                   Season                 200.0                     NaN                    NaN                      21FS            Not Comp          B                 OPEN              Renewal\n",
       "1         Season   CLT21HOU 2021-10-17            21FS  Not Comp   F  111.0    Y 2021-03-31 16:08:19       OPEN   SOLD      0       GA    Manifest   NaN    Renewal    101-10-10   2021    20.0  CLT21HOU-101-10-10         No    N/A          NaN        NaT   0.0                   Season                 200.0                     NaN                    NaN                      21FS            Not Comp          B                 OPEN              Renewal\n",
       "2         Season   CLT21HOU 2021-10-17            21FS  Not Comp   F  111.0    Y 2021-03-31 16:08:19       OPEN   SOLD      0       GA    Manifest   NaN    Renewal    101-10-11   2021    20.0  CLT21HOU-101-10-11         No    N/A          NaN        NaT   0.0                   Season                 200.0                     NaN                    NaN                      21FS            Not Comp          B                 OPEN              Renewal\n",
       "3         Season   CLT21HOU 2021-10-17            21FS  Not Comp   F  111.0    Y 2021-03-31 16:10:20       OPEN   SOLD      0       GA    Manifest   NaN    Renewal    101-10-12   2021     4.0  CLT21HOU-101-10-12        Yes    N/A          NaN        NaT   0.0                   Season                 200.0                     NaN                    NaN                      21FS            Not Comp          B                 OPEN              Renewal\n",
       "4         Season   CLT21HOU 2021-10-17            21FS  Not Comp   F  111.0    Y 2021-03-31 16:08:21       OPEN   SOLD      0       GA    Manifest   NaN    Renewal    101-10-13   2021    32.0  CLT21HOU-101-10-13         No    N/A          NaN        NaT   0.0                   Season                 200.0                     NaN                    NaN                      21FS            Not Comp          B                 OPEN              Renewal"
      ]
     },
     "execution_count": 36,
     "metadata": {},
     "output_type": "execute_result"
    }
   ],
   "source": [
    "df.head()"
   ]
  },
  {
   "cell_type": "code",
   "execution_count": 37,
   "id": "c1614dae",
   "metadata": {},
   "outputs": [],
   "source": [
    "# selected_columns = ['UniqueID', 'SeatUniqueID', 'event_date', 'isAttended','event_name', 'PC1', 'Price',\n",
    "#                     'paid', 'status', 'isHost', 'SeatType', 'TicketClass', 'Term', 'Season', 'Tenure', \n",
    "#                     'Resold', 'ResalePrice', 'isSTM', 'acct_type_desc_processed',\n",
    "#                     'event_sale_date_diff', 'event_resale_date_diff', 'sale_resale_date_diff',\n",
    "#                     'plan_event_name_processed', 'comp_name_processed', 'class_name_processed', \n",
    "#                     'TicketType_processed', 'price_bins']"
   ]
  },
  {
   "cell_type": "code",
   "execution_count": 38,
   "id": "5132b535",
   "metadata": {},
   "outputs": [],
   "source": [
    "selected_columns = ['UniqueID', 'SeatUniqueID', 'event_date', 'isAttended','event_name', 'PC1', 'Price',\n",
    "                    'paid', 'status', 'isHost', 'TicketClass', 'Term', 'Season', 'Tenure', \n",
    "                    'Resold', 'isSTM', 'acct_type_desc_processed', 'event_sale_date_diff',\n",
    "                    'plan_event_name_processed', 'comp_name_processed', 'class_name_processed', \n",
    "                    'TicketType_processed']"
   ]
  },
  {
   "cell_type": "code",
   "execution_count": 39,
   "id": "a6cac9c6",
   "metadata": {
    "scrolled": true
   },
   "outputs": [
    {
     "data": {
      "text/html": [
       "<div>\n",
       "<style scoped>\n",
       "    .dataframe tbody tr th:only-of-type {\n",
       "        vertical-align: middle;\n",
       "    }\n",
       "\n",
       "    .dataframe tbody tr th {\n",
       "        vertical-align: top;\n",
       "    }\n",
       "\n",
       "    .dataframe thead th {\n",
       "        text-align: right;\n",
       "    }\n",
       "</style>\n",
       "<table border=\"1\" class=\"dataframe\">\n",
       "  <thead>\n",
       "    <tr style=\"text-align: right;\">\n",
       "      <th></th>\n",
       "      <th>UniqueID</th>\n",
       "      <th>SeatUniqueID</th>\n",
       "      <th>event_date</th>\n",
       "      <th>isAttended</th>\n",
       "      <th>event_name</th>\n",
       "      <th>PC1</th>\n",
       "      <th>Price</th>\n",
       "      <th>paid</th>\n",
       "      <th>status</th>\n",
       "      <th>isHost</th>\n",
       "      <th>TicketClass</th>\n",
       "      <th>Term</th>\n",
       "      <th>Season</th>\n",
       "      <th>Tenure</th>\n",
       "      <th>Resold</th>\n",
       "      <th>isSTM</th>\n",
       "      <th>acct_type_desc_processed</th>\n",
       "      <th>event_sale_date_diff</th>\n",
       "      <th>plan_event_name_processed</th>\n",
       "      <th>comp_name_processed</th>\n",
       "      <th>class_name_processed</th>\n",
       "      <th>TicketType_processed</th>\n",
       "    </tr>\n",
       "  </thead>\n",
       "  <tbody>\n",
       "    <tr>\n",
       "      <th>399998</th>\n",
       "      <td>CLT21PRE-142-4-8</td>\n",
       "      <td>142-4-8</td>\n",
       "      <td>2021-08-15</td>\n",
       "      <td>Yes</td>\n",
       "      <td>CLT21PRE</td>\n",
       "      <td>8</td>\n",
       "      <td>127.0</td>\n",
       "      <td>N</td>\n",
       "      <td>SOLD</td>\n",
       "      <td>0</td>\n",
       "      <td>Manifest</td>\n",
       "      <td>5.0</td>\n",
       "      <td>2021</td>\n",
       "      <td>3.0</td>\n",
       "      <td>N/A</td>\n",
       "      <td>0.0</td>\n",
       "      <td>Sponsor</td>\n",
       "      <td>117.0</td>\n",
       "      <td>21FS</td>\n",
       "      <td>Not Comp</td>\n",
       "      <td>OPEN</td>\n",
       "      <td>Sponsor</td>\n",
       "    </tr>\n",
       "    <tr>\n",
       "      <th>573431</th>\n",
       "      <td>CLT21TB-634-20-19</td>\n",
       "      <td>634-20-19</td>\n",
       "      <td>2021-11-28</td>\n",
       "      <td>Yes</td>\n",
       "      <td>CLT21TB</td>\n",
       "      <td>U</td>\n",
       "      <td>108.0</td>\n",
       "      <td>N/A</td>\n",
       "      <td>SOLD</td>\n",
       "      <td>1</td>\n",
       "      <td>Manifest</td>\n",
       "      <td>NaN</td>\n",
       "      <td>2021</td>\n",
       "      <td>1.0</td>\n",
       "      <td>N/A</td>\n",
       "      <td>0.0</td>\n",
       "      <td>Personal</td>\n",
       "      <td>77.0</td>\n",
       "      <td>N/A</td>\n",
       "      <td>Not Comp</td>\n",
       "      <td>DIST-OPEN</td>\n",
       "      <td>SingleGame</td>\n",
       "    </tr>\n",
       "    <tr>\n",
       "      <th>562911</th>\n",
       "      <td>CLT21TB-608-6-2</td>\n",
       "      <td>608-6-2</td>\n",
       "      <td>2021-11-28</td>\n",
       "      <td>Yes</td>\n",
       "      <td>CLT21TB</td>\n",
       "      <td>R</td>\n",
       "      <td>123.0</td>\n",
       "      <td>N/A</td>\n",
       "      <td>SOLD</td>\n",
       "      <td>1</td>\n",
       "      <td>Manifest</td>\n",
       "      <td>NaN</td>\n",
       "      <td>2021</td>\n",
       "      <td>1.0</td>\n",
       "      <td>N/A</td>\n",
       "      <td>0.0</td>\n",
       "      <td>Personal</td>\n",
       "      <td>199.0</td>\n",
       "      <td>N/A</td>\n",
       "      <td>Not Comp</td>\n",
       "      <td>DIST-OPEN</td>\n",
       "      <td>SingleGame</td>\n",
       "    </tr>\n",
       "  </tbody>\n",
       "</table>\n",
       "</div>"
      ],
      "text/plain": [
       "                 UniqueID SeatUniqueID event_date isAttended event_name PC1  Price paid status isHost TicketClass  Term Season  Tenure Resold isSTM acct_type_desc_processed  event_sale_date_diff plan_event_name_processed comp_name_processed class_name_processed TicketType_processed\n",
       "399998   CLT21PRE-142-4-8      142-4-8 2021-08-15        Yes   CLT21PRE   8  127.0    N   SOLD      0    Manifest   5.0   2021     3.0    N/A   0.0                  Sponsor                 117.0                      21FS            Not Comp                 OPEN              Sponsor\n",
       "573431  CLT21TB-634-20-19    634-20-19 2021-11-28        Yes    CLT21TB   U  108.0  N/A   SOLD      1    Manifest   NaN   2021     1.0    N/A   0.0                 Personal                  77.0                       N/A            Not Comp            DIST-OPEN           SingleGame\n",
       "562911    CLT21TB-608-6-2      608-6-2 2021-11-28        Yes    CLT21TB   R  123.0  N/A   SOLD      1    Manifest   NaN   2021     1.0    N/A   0.0                 Personal                 199.0                       N/A            Not Comp            DIST-OPEN           SingleGame"
      ]
     },
     "execution_count": 39,
     "metadata": {},
     "output_type": "execute_result"
    }
   ],
   "source": [
    "df[selected_columns].sample(3)"
   ]
  },
  {
   "cell_type": "code",
   "execution_count": 40,
   "id": "5e89a10c",
   "metadata": {},
   "outputs": [],
   "source": [
    "df[selected_columns].to_csv('dataset_processed_v4.csv', index=False)"
   ]
  },
  {
   "cell_type": "code",
   "execution_count": null,
   "id": "28c19df2",
   "metadata": {},
   "outputs": [],
   "source": []
  }
 ],
 "metadata": {
  "kernelspec": {
   "display_name": "Python 3 (ipykernel)",
   "language": "python",
   "name": "python3"
  },
  "language_info": {
   "codemirror_mode": {
    "name": "ipython",
    "version": 3
   },
   "file_extension": ".py",
   "mimetype": "text/x-python",
   "name": "python",
   "nbconvert_exporter": "python",
   "pygments_lexer": "ipython3",
   "version": "3.9.16"
  },
  "toc": {
   "base_numbering": 1,
   "nav_menu": {},
   "number_sections": true,
   "sideBar": true,
   "skip_h1_title": false,
   "title_cell": "Table of Contents",
   "title_sidebar": "Contents",
   "toc_cell": false,
   "toc_position": {
    "height": "calc(100% - 180px)",
    "left": "10px",
    "top": "150px",
    "width": "288px"
   },
   "toc_section_display": true,
   "toc_window_display": true
  }
 },
 "nbformat": 4,
 "nbformat_minor": 5
}
