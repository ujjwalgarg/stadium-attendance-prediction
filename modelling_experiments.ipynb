{
 "cells": [
  {
   "cell_type": "code",
   "execution_count": 1,
   "id": "459595f2",
   "metadata": {},
   "outputs": [],
   "source": [
    "from datetime import datetime\n",
    "\n",
    "import pandas as pd\n",
    "import numpy as np"
   ]
  },
  {
   "cell_type": "code",
   "execution_count": 2,
   "id": "397a9846",
   "metadata": {},
   "outputs": [],
   "source": [
    "pd.set_option('display.max_rows', 500)\n",
    "pd.set_option('display.max_columns', 500)\n",
    "pd.set_option('display.width', 1000)"
   ]
  },
  {
   "cell_type": "code",
   "execution_count": 3,
   "id": "11f91851",
   "metadata": {},
   "outputs": [],
   "source": [
    "df = pd.read_csv('dataset_processed_v4.csv.zip')"
   ]
  },
  {
   "cell_type": "code",
   "execution_count": 4,
   "id": "757a747c",
   "metadata": {},
   "outputs": [
    {
     "name": "stdout",
     "output_type": "stream",
     "text": [
      "(1286916, 22)\n"
     ]
    }
   ],
   "source": [
    "print(df.shape)"
   ]
  },
  {
   "cell_type": "code",
   "execution_count": 5,
   "id": "ac8389c5",
   "metadata": {},
   "outputs": [
    {
     "data": {
      "text/html": [
       "<div>\n",
       "<style scoped>\n",
       "    .dataframe tbody tr th:only-of-type {\n",
       "        vertical-align: middle;\n",
       "    }\n",
       "\n",
       "    .dataframe tbody tr th {\n",
       "        vertical-align: top;\n",
       "    }\n",
       "\n",
       "    .dataframe thead th {\n",
       "        text-align: right;\n",
       "    }\n",
       "</style>\n",
       "<table border=\"1\" class=\"dataframe\">\n",
       "  <thead>\n",
       "    <tr style=\"text-align: right;\">\n",
       "      <th></th>\n",
       "      <th>UniqueID</th>\n",
       "      <th>SeatUniqueID</th>\n",
       "      <th>event_date</th>\n",
       "      <th>isAttended</th>\n",
       "      <th>event_name</th>\n",
       "      <th>PC1</th>\n",
       "      <th>Price</th>\n",
       "      <th>paid</th>\n",
       "      <th>status</th>\n",
       "      <th>isHost</th>\n",
       "      <th>TicketClass</th>\n",
       "      <th>Term</th>\n",
       "      <th>Season</th>\n",
       "      <th>Tenure</th>\n",
       "      <th>Resold</th>\n",
       "      <th>isSTM</th>\n",
       "      <th>acct_type_desc_processed</th>\n",
       "      <th>event_sale_date_diff</th>\n",
       "      <th>plan_event_name_processed</th>\n",
       "      <th>comp_name_processed</th>\n",
       "      <th>class_name_processed</th>\n",
       "      <th>TicketType_processed</th>\n",
       "    </tr>\n",
       "  </thead>\n",
       "  <tbody>\n",
       "    <tr>\n",
       "      <th>9043</th>\n",
       "      <td>CLT21HOU-126-15-10</td>\n",
       "      <td>126-15-10</td>\n",
       "      <td>2021-10-17</td>\n",
       "      <td>Yes</td>\n",
       "      <td>CLT21HOU</td>\n",
       "      <td>F</td>\n",
       "      <td>111.0</td>\n",
       "      <td>Y</td>\n",
       "      <td>SOLD</td>\n",
       "      <td>0</td>\n",
       "      <td>Manifest</td>\n",
       "      <td>NaN</td>\n",
       "      <td>2021</td>\n",
       "      <td>33.0</td>\n",
       "      <td>NaN</td>\n",
       "      <td>0.0</td>\n",
       "      <td>Season</td>\n",
       "      <td>200.0</td>\n",
       "      <td>21FS</td>\n",
       "      <td>Not Comp</td>\n",
       "      <td>OPEN</td>\n",
       "      <td>Renewal</td>\n",
       "    </tr>\n",
       "    <tr>\n",
       "      <th>102926</th>\n",
       "      <td>CLT21JAX-436-2-3</td>\n",
       "      <td>436-2-3</td>\n",
       "      <td>2021-11-14</td>\n",
       "      <td>Yes</td>\n",
       "      <td>CLT21JAX</td>\n",
       "      <td>D</td>\n",
       "      <td>130.0</td>\n",
       "      <td>Y</td>\n",
       "      <td>SOLD</td>\n",
       "      <td>0</td>\n",
       "      <td>Manifest</td>\n",
       "      <td>NaN</td>\n",
       "      <td>2021</td>\n",
       "      <td>3.0</td>\n",
       "      <td>NaN</td>\n",
       "      <td>0.0</td>\n",
       "      <td>Season</td>\n",
       "      <td>228.0</td>\n",
       "      <td>21FS</td>\n",
       "      <td>Not Comp</td>\n",
       "      <td>OPEN</td>\n",
       "      <td>Renewal</td>\n",
       "    </tr>\n",
       "    <tr>\n",
       "      <th>714739</th>\n",
       "      <td>CLT22JAX-117-16-14</td>\n",
       "      <td>117-16-14</td>\n",
       "      <td>2022-10-16</td>\n",
       "      <td>Yes</td>\n",
       "      <td>CLT22JAX</td>\n",
       "      <td>B</td>\n",
       "      <td>161.0</td>\n",
       "      <td>Y</td>\n",
       "      <td>SOLD</td>\n",
       "      <td>0</td>\n",
       "      <td>Manifest</td>\n",
       "      <td>NaN</td>\n",
       "      <td>2022</td>\n",
       "      <td>7.0</td>\n",
       "      <td>NaN</td>\n",
       "      <td>1.0</td>\n",
       "      <td>Season</td>\n",
       "      <td>328.0</td>\n",
       "      <td>22FS</td>\n",
       "      <td>Not Comp</td>\n",
       "      <td>OPEN</td>\n",
       "      <td>Renewal</td>\n",
       "    </tr>\n",
       "    <tr>\n",
       "      <th>818036</th>\n",
       "      <td>CLT22KC-543-3-6</td>\n",
       "      <td>543-3-6</td>\n",
       "      <td>2022-09-25</td>\n",
       "      <td>Yes</td>\n",
       "      <td>CLT22KC</td>\n",
       "      <td>J</td>\n",
       "      <td>149.0</td>\n",
       "      <td>Y</td>\n",
       "      <td>SOLD</td>\n",
       "      <td>0</td>\n",
       "      <td>Manifest</td>\n",
       "      <td>NaN</td>\n",
       "      <td>2022</td>\n",
       "      <td>10.0</td>\n",
       "      <td>NaN</td>\n",
       "      <td>1.0</td>\n",
       "      <td>Season</td>\n",
       "      <td>157.0</td>\n",
       "      <td>22FS</td>\n",
       "      <td>Not Comp</td>\n",
       "      <td>ACCMAN RELO</td>\n",
       "      <td>Renewal</td>\n",
       "    </tr>\n",
       "    <tr>\n",
       "      <th>432676</th>\n",
       "      <td>CLT21PRE-604-6-1</td>\n",
       "      <td>604-6-1</td>\n",
       "      <td>2021-08-15</td>\n",
       "      <td>Yes</td>\n",
       "      <td>CLT21PRE</td>\n",
       "      <td>U</td>\n",
       "      <td>20.0</td>\n",
       "      <td>Y</td>\n",
       "      <td>SOLD</td>\n",
       "      <td>0</td>\n",
       "      <td>Manifest</td>\n",
       "      <td>NaN</td>\n",
       "      <td>2021</td>\n",
       "      <td>1.0</td>\n",
       "      <td>NaN</td>\n",
       "      <td>0.0</td>\n",
       "      <td>Personal</td>\n",
       "      <td>46.0</td>\n",
       "      <td>NaN</td>\n",
       "      <td>Not Comp</td>\n",
       "      <td>OTHERS</td>\n",
       "      <td>Group</td>\n",
       "    </tr>\n",
       "  </tbody>\n",
       "</table>\n",
       "</div>"
      ],
      "text/plain": [
       "                  UniqueID SeatUniqueID  event_date isAttended event_name PC1  Price paid status  isHost TicketClass  Term  Season  Tenure Resold  isSTM acct_type_desc_processed  event_sale_date_diff plan_event_name_processed comp_name_processed class_name_processed TicketType_processed\n",
       "9043    CLT21HOU-126-15-10    126-15-10  2021-10-17        Yes   CLT21HOU   F  111.0    Y   SOLD       0    Manifest   NaN    2021    33.0    NaN    0.0                   Season                 200.0                      21FS            Not Comp                 OPEN              Renewal\n",
       "102926    CLT21JAX-436-2-3      436-2-3  2021-11-14        Yes   CLT21JAX   D  130.0    Y   SOLD       0    Manifest   NaN    2021     3.0    NaN    0.0                   Season                 228.0                      21FS            Not Comp                 OPEN              Renewal\n",
       "714739  CLT22JAX-117-16-14    117-16-14  2022-10-16        Yes   CLT22JAX   B  161.0    Y   SOLD       0    Manifest   NaN    2022     7.0    NaN    1.0                   Season                 328.0                      22FS            Not Comp                 OPEN              Renewal\n",
       "818036     CLT22KC-543-3-6      543-3-6  2022-09-25        Yes    CLT22KC   J  149.0    Y   SOLD       0    Manifest   NaN    2022    10.0    NaN    1.0                   Season                 157.0                      22FS            Not Comp          ACCMAN RELO              Renewal\n",
       "432676    CLT21PRE-604-6-1      604-6-1  2021-08-15        Yes   CLT21PRE   U   20.0    Y   SOLD       0    Manifest   NaN    2021     1.0    NaN    0.0                 Personal                  46.0                       NaN            Not Comp               OTHERS                Group"
      ]
     },
     "execution_count": 5,
     "metadata": {},
     "output_type": "execute_result"
    }
   ],
   "source": [
    "df.sample(5)"
   ]
  },
  {
   "cell_type": "markdown",
   "id": "bf41ac5a",
   "metadata": {},
   "source": [
    "# Separate Train-Test"
   ]
  },
  {
   "cell_type": "code",
   "execution_count": 6,
   "id": "47de6934",
   "metadata": {},
   "outputs": [
    {
     "data": {
      "text/plain": [
       "Yes    0.777865\n",
       "No     0.222135\n",
       "Name: isAttended, dtype: float64"
      ]
     },
     "execution_count": 6,
     "metadata": {},
     "output_type": "execute_result"
    }
   ],
   "source": [
    "df[df.isAttended != '???'].isAttended.value_counts(normalize=True)"
   ]
  },
  {
   "cell_type": "code",
   "execution_count": 7,
   "id": "92d808c7",
   "metadata": {},
   "outputs": [],
   "source": [
    "train_df = df[df['isAttended'] != '???'].copy()\n",
    "test_df = df[df['isAttended'] == '???'].copy()"
   ]
  },
  {
   "cell_type": "markdown",
   "id": "8d9cea7c",
   "metadata": {},
   "source": [
    "# Label Encoding"
   ]
  },
  {
   "cell_type": "code",
   "execution_count": 8,
   "id": "312193fc",
   "metadata": {},
   "outputs": [],
   "source": [
    "from sklearn.preprocessing import LabelEncoder"
   ]
  },
  {
   "cell_type": "code",
   "execution_count": 9,
   "id": "8c42a891",
   "metadata": {
    "scrolled": true
   },
   "outputs": [],
   "source": [
    "# categorical_columns = ['PC1', 'paid', 'status', 'SeatType', 'TicketClass', 'Resold',\n",
    "#                        'acct_type_desc_processed', 'plan_event_name_processed', 'comp_name_processed',\n",
    "#                        'class_name_processed', 'TicketType_processed', 'Season']\n",
    "\n",
    "categorical_columns = ['PC1', 'paid', 'status', 'TicketClass', 'Resold',\n",
    "                       'acct_type_desc_processed', 'plan_event_name_processed', 'comp_name_processed',\n",
    "                       'class_name_processed', 'TicketType_processed', 'Season']\n",
    "\n",
    "label_encoder_objects = dict()\n",
    "for col in categorical_columns:\n",
    "    ob = LabelEncoder()\n",
    "    ob.fit(train_df[col])\n",
    "    train_df[col] = ob.transform(train_df[col])\n",
    "    label_encoder_objects[col] = ob"
   ]
  },
  {
   "cell_type": "code",
   "execution_count": 10,
   "id": "7fea1de4",
   "metadata": {},
   "outputs": [
    {
     "data": {
      "text/plain": [
       "{'PC1': LabelEncoder(),\n",
       " 'paid': LabelEncoder(),\n",
       " 'status': LabelEncoder(),\n",
       " 'TicketClass': LabelEncoder(),\n",
       " 'Resold': LabelEncoder(),\n",
       " 'acct_type_desc_processed': LabelEncoder(),\n",
       " 'plan_event_name_processed': LabelEncoder(),\n",
       " 'comp_name_processed': LabelEncoder(),\n",
       " 'class_name_processed': LabelEncoder(),\n",
       " 'TicketType_processed': LabelEncoder(),\n",
       " 'Season': LabelEncoder()}"
      ]
     },
     "execution_count": 10,
     "metadata": {},
     "output_type": "execute_result"
    }
   ],
   "source": [
    "label_encoder_objects"
   ]
  },
  {
   "cell_type": "code",
   "execution_count": 11,
   "id": "65250e5f",
   "metadata": {},
   "outputs": [],
   "source": [
    "train_df['isAttended'] = train_df['isAttended'].replace({'Yes': 1, 'No': 0})"
   ]
  },
  {
   "cell_type": "code",
   "execution_count": 12,
   "id": "04d4fac3",
   "metadata": {},
   "outputs": [
    {
     "data": {
      "text/html": [
       "<div>\n",
       "<style scoped>\n",
       "    .dataframe tbody tr th:only-of-type {\n",
       "        vertical-align: middle;\n",
       "    }\n",
       "\n",
       "    .dataframe tbody tr th {\n",
       "        vertical-align: top;\n",
       "    }\n",
       "\n",
       "    .dataframe thead th {\n",
       "        text-align: right;\n",
       "    }\n",
       "</style>\n",
       "<table border=\"1\" class=\"dataframe\">\n",
       "  <thead>\n",
       "    <tr style=\"text-align: right;\">\n",
       "      <th></th>\n",
       "      <th>UniqueID</th>\n",
       "      <th>SeatUniqueID</th>\n",
       "      <th>event_date</th>\n",
       "      <th>isAttended</th>\n",
       "      <th>event_name</th>\n",
       "      <th>PC1</th>\n",
       "      <th>Price</th>\n",
       "      <th>paid</th>\n",
       "      <th>status</th>\n",
       "      <th>isHost</th>\n",
       "      <th>TicketClass</th>\n",
       "      <th>Term</th>\n",
       "      <th>Season</th>\n",
       "      <th>Tenure</th>\n",
       "      <th>Resold</th>\n",
       "      <th>isSTM</th>\n",
       "      <th>acct_type_desc_processed</th>\n",
       "      <th>event_sale_date_diff</th>\n",
       "      <th>plan_event_name_processed</th>\n",
       "      <th>comp_name_processed</th>\n",
       "      <th>class_name_processed</th>\n",
       "      <th>TicketType_processed</th>\n",
       "    </tr>\n",
       "  </thead>\n",
       "  <tbody>\n",
       "    <tr>\n",
       "      <th>105443</th>\n",
       "      <td>CLT21JAX-450-13-12</td>\n",
       "      <td>450-13-12</td>\n",
       "      <td>2021-11-14</td>\n",
       "      <td>1</td>\n",
       "      <td>CLT21JAX</td>\n",
       "      <td>18</td>\n",
       "      <td>0.0</td>\n",
       "      <td>2</td>\n",
       "      <td>1</td>\n",
       "      <td>0</td>\n",
       "      <td>2</td>\n",
       "      <td>NaN</td>\n",
       "      <td>0</td>\n",
       "      <td>1.0</td>\n",
       "      <td>1</td>\n",
       "      <td>0.0</td>\n",
       "      <td>2</td>\n",
       "      <td>3.0</td>\n",
       "      <td>3</td>\n",
       "      <td>1</td>\n",
       "      <td>5</td>\n",
       "      <td>1</td>\n",
       "    </tr>\n",
       "    <tr>\n",
       "      <th>495904</th>\n",
       "      <td>CLT21SEA-537-4-11</td>\n",
       "      <td>537-4-11</td>\n",
       "      <td>2021-09-12</td>\n",
       "      <td>1</td>\n",
       "      <td>CLT21SEA</td>\n",
       "      <td>15</td>\n",
       "      <td>105.0</td>\n",
       "      <td>2</td>\n",
       "      <td>3</td>\n",
       "      <td>0</td>\n",
       "      <td>2</td>\n",
       "      <td>NaN</td>\n",
       "      <td>0</td>\n",
       "      <td>36.0</td>\n",
       "      <td>1</td>\n",
       "      <td>0.0</td>\n",
       "      <td>6</td>\n",
       "      <td>164.0</td>\n",
       "      <td>0</td>\n",
       "      <td>0</td>\n",
       "      <td>7</td>\n",
       "      <td>6</td>\n",
       "    </tr>\n",
       "    <tr>\n",
       "      <th>510607</th>\n",
       "      <td>CLT21SEA-637-7-2</td>\n",
       "      <td>637-7-2</td>\n",
       "      <td>2021-09-12</td>\n",
       "      <td>1</td>\n",
       "      <td>CLT21SEA</td>\n",
       "      <td>20</td>\n",
       "      <td>80.0</td>\n",
       "      <td>2</td>\n",
       "      <td>3</td>\n",
       "      <td>0</td>\n",
       "      <td>2</td>\n",
       "      <td>NaN</td>\n",
       "      <td>0</td>\n",
       "      <td>1.0</td>\n",
       "      <td>1</td>\n",
       "      <td>0.0</td>\n",
       "      <td>6</td>\n",
       "      <td>164.0</td>\n",
       "      <td>0</td>\n",
       "      <td>0</td>\n",
       "      <td>1</td>\n",
       "      <td>4</td>\n",
       "    </tr>\n",
       "    <tr>\n",
       "      <th>1210303</th>\n",
       "      <td>CLT22TEN-616-6-5</td>\n",
       "      <td>616-6-5</td>\n",
       "      <td>2022-10-02</td>\n",
       "      <td>1</td>\n",
       "      <td>CLT22TEN</td>\n",
       "      <td>18</td>\n",
       "      <td>71.0</td>\n",
       "      <td>2</td>\n",
       "      <td>3</td>\n",
       "      <td>0</td>\n",
       "      <td>2</td>\n",
       "      <td>NaN</td>\n",
       "      <td>1</td>\n",
       "      <td>16.0</td>\n",
       "      <td>1</td>\n",
       "      <td>1.0</td>\n",
       "      <td>6</td>\n",
       "      <td>321.0</td>\n",
       "      <td>1</td>\n",
       "      <td>0</td>\n",
       "      <td>7</td>\n",
       "      <td>6</td>\n",
       "    </tr>\n",
       "    <tr>\n",
       "      <th>1119200</th>\n",
       "      <td>CLT22PR2-240-10-8</td>\n",
       "      <td>240-10-8</td>\n",
       "      <td>2022-08-27</td>\n",
       "      <td>1</td>\n",
       "      <td>CLT22PR2</td>\n",
       "      <td>0</td>\n",
       "      <td>194.0</td>\n",
       "      <td>2</td>\n",
       "      <td>3</td>\n",
       "      <td>0</td>\n",
       "      <td>2</td>\n",
       "      <td>3.0</td>\n",
       "      <td>1</td>\n",
       "      <td>38.0</td>\n",
       "      <td>1</td>\n",
       "      <td>0.0</td>\n",
       "      <td>0</td>\n",
       "      <td>283.0</td>\n",
       "      <td>1</td>\n",
       "      <td>0</td>\n",
       "      <td>6</td>\n",
       "      <td>6</td>\n",
       "    </tr>\n",
       "  </tbody>\n",
       "</table>\n",
       "</div>"
      ],
      "text/plain": [
       "                   UniqueID SeatUniqueID  event_date  isAttended event_name  PC1  Price  paid  status  isHost  TicketClass  Term  Season  Tenure  Resold  isSTM  acct_type_desc_processed  event_sale_date_diff  plan_event_name_processed  comp_name_processed  class_name_processed  TicketType_processed\n",
       "105443   CLT21JAX-450-13-12    450-13-12  2021-11-14           1   CLT21JAX   18    0.0     2       1       0            2   NaN       0     1.0       1    0.0                         2                   3.0                          3                    1                     5                     1\n",
       "495904    CLT21SEA-537-4-11     537-4-11  2021-09-12           1   CLT21SEA   15  105.0     2       3       0            2   NaN       0    36.0       1    0.0                         6                 164.0                          0                    0                     7                     6\n",
       "510607     CLT21SEA-637-7-2      637-7-2  2021-09-12           1   CLT21SEA   20   80.0     2       3       0            2   NaN       0     1.0       1    0.0                         6                 164.0                          0                    0                     1                     4\n",
       "1210303    CLT22TEN-616-6-5      616-6-5  2022-10-02           1   CLT22TEN   18   71.0     2       3       0            2   NaN       1    16.0       1    1.0                         6                 321.0                          1                    0                     7                     6\n",
       "1119200   CLT22PR2-240-10-8     240-10-8  2022-08-27           1   CLT22PR2    0  194.0     2       3       0            2   3.0       1    38.0       1    0.0                         0                 283.0                          1                    0                     6                     6"
      ]
     },
     "execution_count": 12,
     "metadata": {},
     "output_type": "execute_result"
    }
   ],
   "source": [
    "train_df.sample(5)"
   ]
  },
  {
   "cell_type": "markdown",
   "id": "0e2c2490",
   "metadata": {},
   "source": [
    "# Merge Time Series Features"
   ]
  },
  {
   "cell_type": "markdown",
   "id": "72582903",
   "metadata": {},
   "source": [
    "## Event Level"
   ]
  },
  {
   "cell_type": "code",
   "execution_count": 13,
   "id": "0b351cb8",
   "metadata": {},
   "outputs": [
    {
     "name": "stdout",
     "output_type": "stream",
     "text": [
      "(20, 4)\n"
     ]
    }
   ],
   "source": [
    "event_level_fill_df = pd.read_csv('event_level_fill_rate.csv')\n",
    "print(event_level_fill_df.shape)"
   ]
  },
  {
   "cell_type": "code",
   "execution_count": 14,
   "id": "c890b696",
   "metadata": {
    "scrolled": true
   },
   "outputs": [],
   "source": [
    "train_df = train_df.merge(event_level_fill_df, on='event_date', how='left')"
   ]
  },
  {
   "cell_type": "markdown",
   "id": "5d25ca0f",
   "metadata": {},
   "source": [
    "## Seat Level"
   ]
  },
  {
   "cell_type": "code",
   "execution_count": 15,
   "id": "9d3f23c2",
   "metadata": {},
   "outputs": [
    {
     "name": "stdout",
     "output_type": "stream",
     "text": [
      "(1286916, 5)\n"
     ]
    }
   ],
   "source": [
    "seat_level_df = pd.read_csv('seat_level_lagged_isattended.csv.zip')\n",
    "print(seat_level_df.shape)"
   ]
  },
  {
   "cell_type": "code",
   "execution_count": 16,
   "id": "a2d3e3a8",
   "metadata": {},
   "outputs": [],
   "source": [
    "train_df = train_df.merge(seat_level_df, on=['event_date', 'SeatUniqueID'], how='left')"
   ]
  },
  {
   "cell_type": "code",
   "execution_count": 17,
   "id": "cb58ef10",
   "metadata": {
    "scrolled": true
   },
   "outputs": [
    {
     "data": {
      "text/html": [
       "<div>\n",
       "<style scoped>\n",
       "    .dataframe tbody tr th:only-of-type {\n",
       "        vertical-align: middle;\n",
       "    }\n",
       "\n",
       "    .dataframe tbody tr th {\n",
       "        vertical-align: top;\n",
       "    }\n",
       "\n",
       "    .dataframe thead th {\n",
       "        text-align: right;\n",
       "    }\n",
       "</style>\n",
       "<table border=\"1\" class=\"dataframe\">\n",
       "  <thead>\n",
       "    <tr style=\"text-align: right;\">\n",
       "      <th></th>\n",
       "      <th>UniqueID</th>\n",
       "      <th>SeatUniqueID</th>\n",
       "      <th>event_date</th>\n",
       "      <th>isAttended</th>\n",
       "      <th>event_name</th>\n",
       "      <th>PC1</th>\n",
       "      <th>Price</th>\n",
       "      <th>paid</th>\n",
       "      <th>status</th>\n",
       "      <th>isHost</th>\n",
       "      <th>TicketClass</th>\n",
       "      <th>Term</th>\n",
       "      <th>Season</th>\n",
       "      <th>Tenure</th>\n",
       "      <th>Resold</th>\n",
       "      <th>isSTM</th>\n",
       "      <th>acct_type_desc_processed</th>\n",
       "      <th>event_sale_date_diff</th>\n",
       "      <th>plan_event_name_processed</th>\n",
       "      <th>comp_name_processed</th>\n",
       "      <th>class_name_processed</th>\n",
       "      <th>TicketType_processed</th>\n",
       "      <th>fill_rate_lag_1</th>\n",
       "      <th>fill_rate_lag_2</th>\n",
       "      <th>fill_rate_lag_3</th>\n",
       "      <th>isAttended_lagg_1</th>\n",
       "      <th>isAttended_lagg_2</th>\n",
       "      <th>isAttended_lagg_3</th>\n",
       "    </tr>\n",
       "  </thead>\n",
       "  <tbody>\n",
       "    <tr>\n",
       "      <th>171925</th>\n",
       "      <td>CLT21LAR-504-2-23</td>\n",
       "      <td>504-2-23</td>\n",
       "      <td>2021-09-19</td>\n",
       "      <td>1</td>\n",
       "      <td>CLT21LAR</td>\n",
       "      <td>23</td>\n",
       "      <td>59.0</td>\n",
       "      <td>2</td>\n",
       "      <td>3</td>\n",
       "      <td>0</td>\n",
       "      <td>2</td>\n",
       "      <td>NaN</td>\n",
       "      <td>0</td>\n",
       "      <td>38.0</td>\n",
       "      <td>1</td>\n",
       "      <td>0.0</td>\n",
       "      <td>4</td>\n",
       "      <td>171.0</td>\n",
       "      <td>0</td>\n",
       "      <td>0</td>\n",
       "      <td>7</td>\n",
       "      <td>6</td>\n",
       "      <td>76.927859</td>\n",
       "      <td>49.401672</td>\n",
       "      <td>NaN</td>\n",
       "      <td>1.0</td>\n",
       "      <td>0.0</td>\n",
       "      <td>NaN</td>\n",
       "    </tr>\n",
       "    <tr>\n",
       "      <th>503902</th>\n",
       "      <td>CLT21TB-619-16-4</td>\n",
       "      <td>619-16-4</td>\n",
       "      <td>2021-11-28</td>\n",
       "      <td>1</td>\n",
       "      <td>CLT21TB</td>\n",
       "      <td>25</td>\n",
       "      <td>48.0</td>\n",
       "      <td>2</td>\n",
       "      <td>3</td>\n",
       "      <td>0</td>\n",
       "      <td>2</td>\n",
       "      <td>NaN</td>\n",
       "      <td>0</td>\n",
       "      <td>9.0</td>\n",
       "      <td>1</td>\n",
       "      <td>0.0</td>\n",
       "      <td>3</td>\n",
       "      <td>193.0</td>\n",
       "      <td>3</td>\n",
       "      <td>0</td>\n",
       "      <td>5</td>\n",
       "      <td>0</td>\n",
       "      <td>75.221459</td>\n",
       "      <td>71.858391</td>\n",
       "      <td>75.944115</td>\n",
       "      <td>1.0</td>\n",
       "      <td>0.0</td>\n",
       "      <td>0.0</td>\n",
       "    </tr>\n",
       "    <tr>\n",
       "      <th>235019</th>\n",
       "      <td>CLT21NE-452-10-13</td>\n",
       "      <td>452-10-13</td>\n",
       "      <td>2021-12-18</td>\n",
       "      <td>1</td>\n",
       "      <td>CLT21NE</td>\n",
       "      <td>14</td>\n",
       "      <td>100.0</td>\n",
       "      <td>2</td>\n",
       "      <td>3</td>\n",
       "      <td>0</td>\n",
       "      <td>2</td>\n",
       "      <td>NaN</td>\n",
       "      <td>0</td>\n",
       "      <td>11.0</td>\n",
       "      <td>1</td>\n",
       "      <td>0.0</td>\n",
       "      <td>6</td>\n",
       "      <td>261.0</td>\n",
       "      <td>0</td>\n",
       "      <td>0</td>\n",
       "      <td>7</td>\n",
       "      <td>6</td>\n",
       "      <td>89.024959</td>\n",
       "      <td>75.221459</td>\n",
       "      <td>71.858391</td>\n",
       "      <td>1.0</td>\n",
       "      <td>0.0</td>\n",
       "      <td>0.0</td>\n",
       "    </tr>\n",
       "    <tr>\n",
       "      <th>686868</th>\n",
       "      <td>CLT22KC-507-1-7</td>\n",
       "      <td>507-1-7</td>\n",
       "      <td>2022-09-25</td>\n",
       "      <td>1</td>\n",
       "      <td>CLT22KC</td>\n",
       "      <td>19</td>\n",
       "      <td>102.0</td>\n",
       "      <td>2</td>\n",
       "      <td>3</td>\n",
       "      <td>0</td>\n",
       "      <td>2</td>\n",
       "      <td>NaN</td>\n",
       "      <td>1</td>\n",
       "      <td>0.0</td>\n",
       "      <td>0</td>\n",
       "      <td>1.0</td>\n",
       "      <td>6</td>\n",
       "      <td>181.0</td>\n",
       "      <td>1</td>\n",
       "      <td>0</td>\n",
       "      <td>7</td>\n",
       "      <td>6</td>\n",
       "      <td>71.177696</td>\n",
       "      <td>53.586859</td>\n",
       "      <td>NaN</td>\n",
       "      <td>1.0</td>\n",
       "      <td>1.0</td>\n",
       "      <td>NaN</td>\n",
       "    </tr>\n",
       "    <tr>\n",
       "      <th>100551</th>\n",
       "      <td>CLT21JAX-424-4-2</td>\n",
       "      <td>424-4-2</td>\n",
       "      <td>2021-11-14</td>\n",
       "      <td>1</td>\n",
       "      <td>CLT21JAX</td>\n",
       "      <td>14</td>\n",
       "      <td>89.0</td>\n",
       "      <td>2</td>\n",
       "      <td>3</td>\n",
       "      <td>0</td>\n",
       "      <td>2</td>\n",
       "      <td>NaN</td>\n",
       "      <td>0</td>\n",
       "      <td>16.0</td>\n",
       "      <td>1</td>\n",
       "      <td>0.0</td>\n",
       "      <td>6</td>\n",
       "      <td>227.0</td>\n",
       "      <td>0</td>\n",
       "      <td>0</td>\n",
       "      <td>7</td>\n",
       "      <td>6</td>\n",
       "      <td>71.858391</td>\n",
       "      <td>75.944115</td>\n",
       "      <td>71.609735</td>\n",
       "      <td>1.0</td>\n",
       "      <td>1.0</td>\n",
       "      <td>1.0</td>\n",
       "    </tr>\n",
       "  </tbody>\n",
       "</table>\n",
       "</div>"
      ],
      "text/plain": [
       "                 UniqueID SeatUniqueID  event_date  isAttended event_name  PC1  Price  paid  status  isHost  TicketClass  Term  Season  Tenure  Resold  isSTM  acct_type_desc_processed  event_sale_date_diff  plan_event_name_processed  comp_name_processed  class_name_processed  TicketType_processed  fill_rate_lag_1  fill_rate_lag_2  fill_rate_lag_3  isAttended_lagg_1  isAttended_lagg_2  isAttended_lagg_3\n",
       "171925  CLT21LAR-504-2-23     504-2-23  2021-09-19           1   CLT21LAR   23   59.0     2       3       0            2   NaN       0    38.0       1    0.0                         4                 171.0                          0                    0                     7                     6        76.927859        49.401672              NaN                1.0                0.0                NaN\n",
       "503902   CLT21TB-619-16-4     619-16-4  2021-11-28           1    CLT21TB   25   48.0     2       3       0            2   NaN       0     9.0       1    0.0                         3                 193.0                          3                    0                     5                     0        75.221459        71.858391        75.944115                1.0                0.0                0.0\n",
       "235019  CLT21NE-452-10-13    452-10-13  2021-12-18           1    CLT21NE   14  100.0     2       3       0            2   NaN       0    11.0       1    0.0                         6                 261.0                          0                    0                     7                     6        89.024959        75.221459        71.858391                1.0                0.0                0.0\n",
       "686868    CLT22KC-507-1-7      507-1-7  2022-09-25           1    CLT22KC   19  102.0     2       3       0            2   NaN       1     0.0       0    1.0                         6                 181.0                          1                    0                     7                     6        71.177696        53.586859              NaN                1.0                1.0                NaN\n",
       "100551   CLT21JAX-424-4-2      424-4-2  2021-11-14           1   CLT21JAX   14   89.0     2       3       0            2   NaN       0    16.0       1    0.0                         6                 227.0                          0                    0                     7                     6        71.858391        75.944115        71.609735                1.0                1.0                1.0"
      ]
     },
     "execution_count": 17,
     "metadata": {},
     "output_type": "execute_result"
    }
   ],
   "source": [
    "train_df.sample(5)"
   ]
  },
  {
   "cell_type": "markdown",
   "id": "ed29c9fa",
   "metadata": {},
   "source": [
    "# Modelling"
   ]
  },
  {
   "cell_type": "markdown",
   "id": "0f839748",
   "metadata": {},
   "source": [
    "## Oversampling"
   ]
  },
  {
   "cell_type": "code",
   "execution_count": null,
   "id": "f7696561",
   "metadata": {},
   "outputs": [],
   "source": [
    "train_df = train_df.drop(columns=['UniqueID', 'event_name', 'SeatUniqueID', 'event_date']).copy()"
   ]
  },
  {
   "cell_type": "code",
   "execution_count": null,
   "id": "6b6dfd79",
   "metadata": {},
   "outputs": [],
   "source": [
    "df_majority = train_df[train_df.isAttended==1]\n",
    "df_minority = train_df[train_df.isAttended==0]"
   ]
  },
  {
   "cell_type": "code",
   "execution_count": null,
   "id": "d8ba5df2",
   "metadata": {},
   "outputs": [],
   "source": [
    "from sklearn.utils import resample"
   ]
  },
  {
   "cell_type": "code",
   "execution_count": null,
   "id": "996874e2",
   "metadata": {},
   "outputs": [],
   "source": [
    "df_minority_upsampled = resample(df_minority, \n",
    "                                 replace=True,     # sample with replacement\n",
    "                                 n_samples=len(df_majority),    # to match majority class\n",
    "                                 random_state=1234) # reproducible results\n",
    " \n",
    "# Combine majority class with upsampled minority class\n",
    "df_upsampled = pd.concat([df_majority, df_minority_upsampled])\n",
    " \n",
    "# Display new class counts\n",
    "df_upsampled.isAttended.value_counts()"
   ]
  },
  {
   "cell_type": "markdown",
   "id": "8cf7b47a",
   "metadata": {},
   "source": [
    "## Train-Test Split "
   ]
  },
  {
   "cell_type": "code",
   "execution_count": 18,
   "id": "f9350bd4",
   "metadata": {},
   "outputs": [],
   "source": [
    "from sklearn.model_selection import train_test_split"
   ]
  },
  {
   "cell_type": "code",
   "execution_count": 19,
   "id": "b749a613",
   "metadata": {},
   "outputs": [],
   "source": [
    "# X = train_df.drop(columns=['UniqueID', 'isAttended', 'event_name']).copy()\n",
    "X = train_df.drop(columns=['UniqueID', 'event_name', 'SeatUniqueID', 'event_date', 'isAttended']).copy()\n",
    "y = train_df[['isAttended']].copy()\n",
    "# X = df_upsampled.drop(columns=['isAttended']).copy()\n",
    "# y = df_upsampled[['isAttended']].copy()"
   ]
  },
  {
   "cell_type": "code",
   "execution_count": 20,
   "id": "db2cfd26",
   "metadata": {},
   "outputs": [
    {
     "data": {
      "text/plain": [
       "(1158228, 23)"
      ]
     },
     "execution_count": 20,
     "metadata": {},
     "output_type": "execute_result"
    }
   ],
   "source": [
    "X.shape"
   ]
  },
  {
   "cell_type": "code",
   "execution_count": 21,
   "id": "d64f0d78",
   "metadata": {},
   "outputs": [],
   "source": [
    "X_train, X_test, y_train, y_test = train_test_split(X, y, test_size=0.2, random_state=99)"
   ]
  },
  {
   "cell_type": "markdown",
   "id": "b304c4d4",
   "metadata": {},
   "source": [
    "## XGBoost"
   ]
  },
  {
   "cell_type": "code",
   "execution_count": 22,
   "id": "2bee23ae",
   "metadata": {},
   "outputs": [],
   "source": [
    "from xgboost import XGBClassifier\n",
    "from sklearn.metrics import roc_auc_score"
   ]
  },
  {
   "cell_type": "code",
   "execution_count": 30,
   "id": "29b89fd1",
   "metadata": {},
   "outputs": [],
   "source": [
    "xgb1 = XGBClassifier(\n",
    "    n_estimators=1000,\n",
    "    colsample_bytree=0.7,\n",
    "    learning_rate=0.1,\n",
    "    max_depth=6,\n",
    "    n_jobs=-1,\n",
    "    random_state=12,\n",
    ")\n",
    "\n",
    "xgb2 = XGBClassifier(\n",
    "    n_estimators=1000,\n",
    "    colsample_bytree=0.6,\n",
    "    learning_rate=0.1,\n",
    "    max_depth=6,\n",
    "    n_jobs=-1,\n",
    "    random_state=123,\n",
    ")\n",
    "\n",
    "xgb3 = XGBClassifier(\n",
    "    n_estimators=1000,\n",
    "    colsample_bytree=0.7,\n",
    "    learning_rate=0.2,\n",
    "    max_depth=5,\n",
    "    n_jobs=-1,\n",
    "    random_state=1234,\n",
    ")\n",
    "\n",
    "xgb4 = XGBClassifier(\n",
    "    n_estimators=1000,\n",
    "    colsample_bytree=0.6,\n",
    "    learning_rate=0.2,\n",
    "    max_depth=5,\n",
    "    n_jobs=-1,\n",
    "    random_state=12345,\n",
    ")"
   ]
  },
  {
   "cell_type": "code",
   "execution_count": null,
   "id": "e4271907",
   "metadata": {},
   "outputs": [],
   "source": [
    "# evaluation = [( X_train, y_train), ( X_test, y_test)]\n",
    "\n",
    "# xgb5.fit(X_train, y_train,\n",
    "#          eval_set=evaluation, eval_metric=\"auc\",\n",
    "#          early_stopping_rounds=7)\n",
    "\n",
    "# xgbc.fit(X_train, y_train)"
   ]
  },
  {
   "cell_type": "code",
   "execution_count": 24,
   "id": "13687827",
   "metadata": {},
   "outputs": [],
   "source": [
    "from sklearn.ensemble import VotingClassifier"
   ]
  },
  {
   "cell_type": "code",
   "execution_count": 31,
   "id": "6e921d87",
   "metadata": {},
   "outputs": [],
   "source": [
    "v_clf = VotingClassifier(estimators=[\n",
    "    ('xgb1', xgb1), ('xgb2', xgb2), ('xgb3', xgb3), ('xgb4', xgb4)], voting='soft')\n",
    "v_clf = v_clf.fit(X_train.values, y_train.isAttended.values)"
   ]
  },
  {
   "cell_type": "code",
   "execution_count": null,
   "id": "4ae94ede",
   "metadata": {},
   "outputs": [],
   "source": []
  },
  {
   "cell_type": "code",
   "execution_count": 32,
   "id": "daefdb74",
   "metadata": {},
   "outputs": [],
   "source": [
    "xgbc = v_clf"
   ]
  },
  {
   "cell_type": "code",
   "execution_count": 33,
   "id": "e6aabe96",
   "metadata": {},
   "outputs": [
    {
     "name": "stdout",
     "output_type": "stream",
     "text": [
      "0.852365112388642 0.8377593239629888\n"
     ]
    }
   ],
   "source": [
    "# from sklearn.metrics import roc_auc_score\n",
    "auc_train = roc_auc_score(y_train, xgbc.predict_proba(X_train)[:,1])\n",
    "auc_test = roc_auc_score(y_test, xgbc.predict_proba(X_test)[:,1])\n",
    "\n",
    "print(auc_train, auc_test)"
   ]
  },
  {
   "cell_type": "code",
   "execution_count": 34,
   "id": "ef30f771",
   "metadata": {},
   "outputs": [
    {
     "data": {
      "text/plain": [
       "0.8638900820434673"
      ]
     },
     "execution_count": 34,
     "metadata": {},
     "output_type": "execute_result"
    }
   ],
   "source": [
    "xgbc.score(X_train, y_train)"
   ]
  },
  {
   "cell_type": "code",
   "execution_count": 35,
   "id": "44eddb53",
   "metadata": {},
   "outputs": [
    {
     "data": {
      "text/plain": [
       "0.8596435941047978"
      ]
     },
     "execution_count": 35,
     "metadata": {},
     "output_type": "execute_result"
    }
   ],
   "source": [
    "xgbc.score(X_test, y_test)"
   ]
  },
  {
   "cell_type": "code",
   "execution_count": null,
   "id": "5032b581",
   "metadata": {},
   "outputs": [],
   "source": []
  },
  {
   "cell_type": "code",
   "execution_count": null,
   "id": "adc6d9b9",
   "metadata": {},
   "outputs": [],
   "source": [
    "importances = xgbc.feature_importances_\n",
    "feature_names = list(X_train.columns)"
   ]
  },
  {
   "cell_type": "code",
   "execution_count": null,
   "id": "baa7b626",
   "metadata": {},
   "outputs": [],
   "source": [
    "import matplotlib.pyplot as plt"
   ]
  },
  {
   "cell_type": "code",
   "execution_count": null,
   "id": "eb067c6a",
   "metadata": {},
   "outputs": [],
   "source": [
    "forest_importances = pd.Series(importances, index=feature_names)\n",
    "forest_importances = forest_importances.sort_values(ascending=False)\n",
    "\n",
    "fig, ax = plt.subplots()\n",
    "forest_importances.plot.bar(ax=ax)\n",
    "ax.set_title(\"Feature importances using MDI\")\n",
    "ax.set_ylabel(\"Mean decrease in impurity\")\n",
    "fig.tight_layout()"
   ]
  },
  {
   "cell_type": "code",
   "execution_count": null,
   "id": "ca8ce460",
   "metadata": {},
   "outputs": [],
   "source": []
  },
  {
   "cell_type": "code",
   "execution_count": null,
   "id": "4389677a",
   "metadata": {},
   "outputs": [],
   "source": []
  },
  {
   "cell_type": "markdown",
   "id": "647e1f5a",
   "metadata": {},
   "source": [
    "## Grid Search"
   ]
  },
  {
   "cell_type": "code",
   "execution_count": null,
   "id": "71cc7193",
   "metadata": {},
   "outputs": [],
   "source": [
    "from sklearn.model_selection import GridSearchCV"
   ]
  },
  {
   "cell_type": "code",
   "execution_count": null,
   "id": "76fd9620",
   "metadata": {
    "scrolled": true
   },
   "outputs": [],
   "source": [
    "# help(XGBClassifier)"
   ]
  },
  {
   "cell_type": "code",
   "execution_count": null,
   "id": "5048456c",
   "metadata": {},
   "outputs": [],
   "source": [
    "params = { 'max_depth': [3,6,10],\n",
    "           'learning_rate': [0.01, 0.05, 0.1],\n",
    "           'n_estimators': [500, 1000],\n",
    "           'colsample_bytree': [0.3, 0.7],\n",
    "#            'early_stopping_rounds': [5, 10, 15]\n",
    "         }"
   ]
  },
  {
   "cell_type": "code",
   "execution_count": null,
   "id": "5adfb483",
   "metadata": {},
   "outputs": [],
   "source": [
    "# xgbc = XGBClassifier(\n",
    "#     eval_set=[(X_train, y_train), (X_test, y_test)],\n",
    "#     random_state=99\n",
    "# )\n",
    "\n",
    "xgbc = XGBClassifier(random_state=99, n_job=-1)"
   ]
  },
  {
   "cell_type": "code",
   "execution_count": null,
   "id": "3c32911f",
   "metadata": {},
   "outputs": [],
   "source": [
    "# help(GridSearchCV)"
   ]
  },
  {
   "cell_type": "code",
   "execution_count": null,
   "id": "215a2450",
   "metadata": {},
   "outputs": [],
   "source": [
    "clf = GridSearchCV(estimator=xgbc, \n",
    "                   param_grid=params,\n",
    "                   scoring=('roc_auc', 'f1', 'precision', 'recall'),\n",
    "                   verbose=1,\n",
    "                   n_jobs=-1,\n",
    "                   refit=False)"
   ]
  },
  {
   "cell_type": "code",
   "execution_count": null,
   "id": "b7be2f60",
   "metadata": {
    "scrolled": true
   },
   "outputs": [],
   "source": [
    "clf.fit(X, y)"
   ]
  },
  {
   "cell_type": "code",
   "execution_count": null,
   "id": "702be40c",
   "metadata": {},
   "outputs": [],
   "source": [
    "pd.DataFrame(clf.cv_results_).to_csv('cv_results.csv', index=False)"
   ]
  },
  {
   "cell_type": "markdown",
   "id": "0ebff72f",
   "metadata": {},
   "source": [
    "# Threshold Experiments"
   ]
  },
  {
   "cell_type": "code",
   "execution_count": null,
   "id": "6fa94363",
   "metadata": {},
   "outputs": [],
   "source": [
    "def threshold_exp(y_test, y_pred_prob):\n",
    "    for threshold in np.arange(0.1, 1.0, 0.1):\n",
    "        y_pred = np.where(y_pred_prob[:,1] <= threshold, 0, 1)\n",
    "        tem = pd.DataFrame()\n",
    "        tem['y_test'] = y_test\n",
    "        tem['y_pred'] = y_pred\n",
    "        print(f'threshold = {threshold}')\n",
    "        tem = tem.apply(\n",
    "            lambda x: f\"y_pred={x['y_pred']}, y_test={x['y_test']}\",\n",
    "            axis=1\n",
    "        )\n",
    "        print(round(tem.value_counts(normalize=True, sort=False)*100, 1))\n",
    "        print()\n"
   ]
  },
  {
   "cell_type": "code",
   "execution_count": null,
   "id": "e46d1431",
   "metadata": {
    "scrolled": false
   },
   "outputs": [],
   "source": [
    "threshold_exp(y_test['isAttended'].values, xgbc.predict_proba(X_test))"
   ]
  },
  {
   "cell_type": "code",
   "execution_count": null,
   "id": "eeb1c9f3",
   "metadata": {},
   "outputs": [],
   "source": []
  }
 ],
 "metadata": {
  "kernelspec": {
   "display_name": "Python 3 (ipykernel)",
   "language": "python",
   "name": "python3"
  },
  "language_info": {
   "codemirror_mode": {
    "name": "ipython",
    "version": 3
   },
   "file_extension": ".py",
   "mimetype": "text/x-python",
   "name": "python",
   "nbconvert_exporter": "python",
   "pygments_lexer": "ipython3",
   "version": "3.9.16"
  },
  "toc": {
   "base_numbering": 1,
   "nav_menu": {},
   "number_sections": true,
   "sideBar": true,
   "skip_h1_title": false,
   "title_cell": "Table of Contents",
   "title_sidebar": "Contents",
   "toc_cell": false,
   "toc_position": {
    "height": "calc(100% - 180px)",
    "left": "10px",
    "top": "150px",
    "width": "347px"
   },
   "toc_section_display": true,
   "toc_window_display": true
  }
 },
 "nbformat": 4,
 "nbformat_minor": 5
}
